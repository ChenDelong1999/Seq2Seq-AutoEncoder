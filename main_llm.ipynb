{
 "cells": [
  {
   "cell_type": "code",
   "execution_count": 1,
   "metadata": {},
   "outputs": [
    {
     "name": "stderr",
     "output_type": "stream",
     "text": [
      "/home/dchenbs/anaconda3/envs/seq2seq-ae/lib/python3.11/site-packages/tqdm/auto.py:21: TqdmWarning: IProgress not found. Please update jupyter and ipywidgets. See https://ipywidgets.readthedocs.io/en/stable/user_install.html\n",
      "  from .autonotebook import tqdm as notebook_tqdm\n"
     ]
    }
   ],
   "source": [
    "import torch\n",
    "import torchvision\n",
    "from transformers import AutoTokenizer\n",
    "import os\n",
    "import cv2\n",
    "import matplotlib.pyplot as plt\n",
    "import numpy as np\n",
    "import random\n",
    "random.seed(0)\n",
    "from PIL import Image\n",
    "\n",
    "os.environ[\"CUDA_VISIBLE_DEVICES\"] = \"4\"\n",
    "\n",
    "DEVICE = \"cuda:0\" if torch.cuda.is_available() else \"cpu\""
   ]
  },
  {
   "cell_type": "code",
   "execution_count": 2,
   "metadata": {},
   "outputs": [],
   "source": [
    "def segment_one_image(segmenter, image_path, visualize=False):\n",
    "\n",
    "    image = Image.open(image_path).convert('RGB')\n",
    "    image_np = np.array(image)\n",
    "    segment_masks = segmenter(image_path)\n",
    "\n",
    "    def visualized_masks(masks, image):\n",
    "        canvas = np.ones_like(image) * 255\n",
    "        masks = sorted(masks, key=lambda x: x['area'], reverse=True)\n",
    "        for mask in masks:\n",
    "            average_color = np.mean(image[mask['segmentation'] == 1], axis=0)\n",
    "            canvas[mask['segmentation'] == 1] = average_color\n",
    "\n",
    "            # visualize segment boundary\n",
    "            contours, _ = cv2.findContours(mask['segmentation'].astype(np.uint8), cv2.RETR_EXTERNAL, cv2.CHAIN_APPROX_SIMPLE)\n",
    "            cv2.drawContours(canvas, contours, -1, (200, 200, 200), 1)\n",
    "        return canvas\n",
    "    \n",
    "    if visualize:\n",
    "        plt.figure(figsize=(20, 10))\n",
    "        plt.subplot(1, 2, 1)\n",
    "        plt.imshow(image_np)\n",
    "        plt.axis('off')\n",
    "\n",
    "        canvas = visualized_masks(segment_masks, image_np)\n",
    "        plt.subplot(1, 2, 2)\n",
    "        plt.imshow(canvas)\n",
    "        plt.axis('off')\n",
    "\n",
    "        plt.tight_layout()\n",
    "        plt.show()\n",
    "\n",
    "    for segment_mask in segment_masks:\n",
    "        segment_mask['image_index'] = 0\n",
    "        segment_mask['segmentation'] = torch.from_numpy(segment_mask['segmentation'])\n",
    "        \n",
    "    return segment_masks, [image]"
   ]
  },
  {
   "cell_type": "code",
   "execution_count": 3,
   "metadata": {},
   "outputs": [],
   "source": [
    "# from model.modeling_multimodal_phi2 import *\n",
    "# model = PhiForMultimodal.from_pretrained(\n",
    "#     \"microsoft/phi-2\",\n",
    "#     w_segment_loss=1.0,\n",
    "#     w_bbox_loss=1.0,\n",
    "#     ).to(DEVICE)\n",
    "\n",
    "# model.load_seqae('/home/dchenbs/workspace/Seq2Seq-AutoEncoder/runs/Nov28_20-50-04_host19-SA1B-[327MB-16queries-1024]-[lr1e-05-bs16x1step-8gpu]/checkpoints/checkpoint_ep2_step3200k')\n",
    "\n",
    "# tokenizer = AutoTokenizer.from_pretrained(\"microsoft/phi-2\", trust_remote_code=True)\n",
    "# tokenizer.add_tokens([\"<|startofimage|>\", \"<|endofimage|>\", \"<|seg|>\"])\n",
    "# tokenizer.add_special_tokens({'pad_token': '[PAD]'})\n",
    "\n",
    "# model.resize_token_embeddings(len(tokenizer))\n",
    "# model.special_token_id_mappinmg = {\n",
    "#     \"<|startofimage|>\": tokenizer.convert_tokens_to_ids(\"<|startofimage|>\"),\n",
    "#     \"<|endofimage|>\": tokenizer.convert_tokens_to_ids(\"<|endofimage|>\"),\n",
    "#     \"<|seg|>\": tokenizer.convert_tokens_to_ids(\"<|seg|>\"),\n",
    "#     \"<|endoftext|>\": tokenizer.convert_tokens_to_ids(\"<|endoftext|>\"),\n",
    "#     \"[PAD]\": tokenizer.convert_tokens_to_ids(\"[PAD]\"),\n",
    "# }\n"
   ]
  },
  {
   "cell_type": "code",
   "execution_count": 4,
   "metadata": {},
   "outputs": [
    {
     "name": "stderr",
     "output_type": "stream",
     "text": [
      "/home/dchenbs/workspace/Seq2Seq-AutoEncoder/segmentation/tinyvit/tiny_vit.py:656: UserWarning: Overwriting tiny_vit_5m_224 in registry with tinyvit.tiny_vit.tiny_vit_5m_224. This is because the name being registered conflicts with an existing name. Please check if this is not expected.\n",
      "  return register_model(fn_wrapper)\n",
      "/home/dchenbs/workspace/Seq2Seq-AutoEncoder/segmentation/tinyvit/tiny_vit.py:656: UserWarning: Overwriting tiny_vit_11m_224 in registry with tinyvit.tiny_vit.tiny_vit_11m_224. This is because the name being registered conflicts with an existing name. Please check if this is not expected.\n",
      "  return register_model(fn_wrapper)\n",
      "/home/dchenbs/workspace/Seq2Seq-AutoEncoder/segmentation/tinyvit/tiny_vit.py:656: UserWarning: Overwriting tiny_vit_21m_224 in registry with tinyvit.tiny_vit.tiny_vit_21m_224. This is because the name being registered conflicts with an existing name. Please check if this is not expected.\n",
      "  return register_model(fn_wrapper)\n",
      "/home/dchenbs/workspace/Seq2Seq-AutoEncoder/segmentation/tinyvit/tiny_vit.py:656: UserWarning: Overwriting tiny_vit_21m_384 in registry with tinyvit.tiny_vit.tiny_vit_21m_384. This is because the name being registered conflicts with an existing name. Please check if this is not expected.\n",
      "  return register_model(fn_wrapper)\n",
      "/home/dchenbs/workspace/Seq2Seq-AutoEncoder/segmentation/tinyvit/tiny_vit.py:656: UserWarning: Overwriting tiny_vit_21m_512 in registry with tinyvit.tiny_vit.tiny_vit_21m_512. This is because the name being registered conflicts with an existing name. Please check if this is not expected.\n",
      "  return register_model(fn_wrapper)\n"
     ]
    },
    {
     "name": "stdout",
     "output_type": "stream",
     "text": [
      "checkpoint_load_scucess\n"
     ]
    }
   ],
   "source": [
    "import sys\n",
    "sys.path.append(\"segmentation\")\n",
    "\n",
    "from segmentation import Segmenter\n",
    "segmenter = Segmenter('mobile_sam_v2', '/home/dchenbs/workspace/cache/sam_weights/mobile_sam_v2/l2.pt')"
   ]
  },
  {
   "cell_type": "code",
   "execution_count": 21,
   "metadata": {},
   "outputs": [
    {
     "name": "stdout",
     "output_type": "stream",
     "text": [
      "Total samples: 665058, after removing text-only samples: 624370\n"
     ]
    },
    {
     "name": "stderr",
     "output_type": "stream",
     "text": [
      "100%|██████████| 624370/624370 [00:01<00:00, 314744.34it/s]"
     ]
    },
    {
     "name": "stdout",
     "output_type": "stream",
     "text": [
      "Found 355 samples failed to load.\n"
     ]
    },
    {
     "name": "stderr",
     "output_type": "stream",
     "text": [
      "\n"
     ]
    }
   ],
   "source": [
    "from data.sharegpt4v import ShareGPT4V\n",
    "sharegpt4v_path = '/home/dchenbs/workspace/datasets/sharegpt4v/ShareGPT4V'\n",
    "\n",
    "# annotation_file = os.path.join(sharegpt4v_path, 'share-captioner_coco_lcs_sam_1246k_1107.json')\n",
    "# annotation_file = os.path.join(sharegpt4v_path, 'sharegpt4v_instruct_gpt4-vision_cap100k.json')\n",
    "annotation_file = os.path.join(sharegpt4v_path, 'sharegpt4v_mix665k_cap23k_coco-ap9k_lcs3k_sam9k_div2k.json')\n",
    "\n",
    "\n",
    "dir_mapping = {\n",
    "    'sam/images': '/home/dchenbs/workspace/datasets/sa1b',\n",
    "    'coco/train2017': '/home/dchenbs/workspace/datasets/coco2017/images/train2017',\n",
    "    'llava/llava_pretrain/images': '/home/dchenbs/workspace/datasets/sharegpt4v/LLaVA-Pretrain',\n",
    "    'wikiart/images': '/home/dchenbs/workspace/datasets/sharegpt4v/WebData/wikiart/images',\n",
    "    'share_textvqa/images': '/home/dchenbs/workspace/datasets/sharegpt4v/WebData/share_textvqa/images',\n",
    "    'web-celebrity/images': '/home/dchenbs/workspace/datasets/sharegpt4v/WebData/web-celebrity/images',\n",
    "        'Choi_Min-sik': 'Choi_Min_sik', \n",
    "        'Lee_Byung-hun': 'Lee_Byung_hun',\n",
    "    'web-landmark/images': '/home/dchenbs/workspace/datasets/sharegpt4v/WebData/web-landmark/images',\n",
    "    'vg/VG_100K': '/home/dchenbs/workspace/datasets/VisualGenome/VG_100K',\n",
    "    'vg/VG_100K_2': '/home/dchenbs/workspace/datasets/VisualGenome/VG_100K_2',\n",
    "    'gqa/images': '/home/dchenbs/workspace/datasets/gqa/images',\n",
    "    'ocr_vqa/images': '/home/dchenbs/workspace/datasets/sharegpt4v/ocr_vqa/images',\n",
    "    'textvqa/train_images': '/home/dchenbs/workspace/datasets/sharegpt4v/textvqa/train_images',\n",
    "}\n",
    "\n",
    "dataset = ShareGPT4V(annotation_file, dir_mapping)\n",
    "failed_samples = dataset.validate_exist()"
   ]
  },
  {
   "cell_type": "code",
   "execution_count": null,
   "metadata": {},
   "outputs": [],
   "source": [
    "\n",
    "img_dir = '/home/dchenbs/workspace/datasets/coco2017/images/val2017'\n",
    "img_path = os.path.join(img_dir, random.choice(os.listdir(img_dir)))\n",
    "segment_masks, images = segment_one_image(segmenter, img_path, visualize=False)"
   ]
  },
  {
   "cell_type": "code",
   "execution_count": null,
   "metadata": {},
   "outputs": [],
   "source": [
    "inputs = tokenizer([\n",
    "    'Hellow world!',\n",
    "    'This is a segment token: <|startofimage|><|seg|><|endofimage|><|endoftext|>',\n",
    "    'This is an image of a cat with 4 tokens: <|startofimage|><|seg|><|seg|><|seg|><|seg|><|endofimage|>!<|endoftext|>',\n",
    "    ], return_tensors=\"pt\", return_attention_mask=False, padding=True).to(DEVICE)\n",
    "\n",
    "print(tokenizer.decode(inputs['input_ids'][0], skip_special_tokens=False))\n",
    "print(tokenizer.decode(inputs['input_ids'][1], skip_special_tokens=False))\n",
    "print(tokenizer.decode(inputs['input_ids'][2], skip_special_tokens=False))\n",
    "\n",
    "print(inputs, inputs['input_ids'].shape)\n",
    "\n",
    "print(model.special_token_id_mappinmg)\n",
    "print('\\n\\n\\n')\n",
    "output = model(\n",
    "    input_ids=inputs['input_ids'],\n",
    "    segment_masks=[[], segment_masks[:1], segment_masks[:4]],\n",
    "    images=images[:4],\n",
    "    labels=inputs['input_ids'],\n",
    "    )\n",
    "\n",
    "# outputs = model.generate(**inputs, max_length=200)\n",
    "# text = tokenizer.batch_decode(outputs)[0]\n",
    "# print(text)\n",
    "\n"
   ]
  },
  {
   "cell_type": "code",
   "execution_count": null,
   "metadata": {},
   "outputs": [],
   "source": [
    "print(output.keys())"
   ]
  }
 ],
 "metadata": {
  "kernelspec": {
   "display_name": "seq2seq-ae",
   "language": "python",
   "name": "python3"
  },
  "language_info": {
   "codemirror_mode": {
    "name": "ipython",
    "version": 3
   },
   "file_extension": ".py",
   "mimetype": "text/x-python",
   "name": "python",
   "nbconvert_exporter": "python",
   "pygments_lexer": "ipython3",
   "version": "3.11.5"
  }
 },
 "nbformat": 4,
 "nbformat_minor": 2
}
