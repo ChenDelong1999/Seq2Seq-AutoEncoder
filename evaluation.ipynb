{
 "cells": [
  {
   "cell_type": "code",
   "execution_count": null,
   "metadata": {},
   "outputs": [],
   "source": [
    "import argparse\n",
    "import os\n",
    "import json\n",
    "import tqdm\n",
    "import math\n",
    "import numpy as np\n",
    "import random\n",
    "import time\n",
    "import torch\n",
    "import torchvision.transforms as transforms\n",
    "from matplotlib import pyplot as plt\n",
    "from PIL import Image\n",
    "import pprint\n",
    "import pandas as pd\n",
    "\n",
    "np.random.seed(42)\n",
    "random.seed(42)\n",
    "\n",
    "from model import Seq2SeqAutoEncoderModel\n",
    "from evaluation import decode_image_from_seq, visualize_segments, tsne_visualize, get_knn_similarity, get_datasets, linear_evaluation, reconstruction_evaluation"
   ]
  },
  {
   "cell_type": "code",
   "execution_count": null,
   "metadata": {},
   "outputs": [],
   "source": [
    "os.environ['CUDA_VISIBLE_DEVICES'] = '4'\n",
    "model_dir = '/home/dchenbs/workspace/Seq2Seq-AutoEncoder/runs/Nov14_17-31-06_host19-SA1B-[327MB-16queries-1024]-[lr1e-05-bs16x1step-8gpu]/checkpoints/checkpoint_ep0_step50k'\n",
    "\n",
    "# os.environ['CUDA_VISIBLE_DEVICES'] = '5'\n",
    "# model_dir = '/home/dchenbs/workspace/Seq2Seq-AutoEncoder/runs/Nov28_20-50-04_host19-SA1B-[327MB-16queries-1024]-[lr1e-05-bs16x1step-8gpu]/checkpoints/checkpoint_ep0_step50k'\n",
    "\n",
    "\n",
    "print(f'Loading model from {model_dir}')\n",
    "model = Seq2SeqAutoEncoderModel.from_pretrained(model_dir).cuda().eval()\n",
    "\n",
    "datasets = get_datasets(model, expand_mask_ratio=0)\n",
    "\n",
    "# num_steps = 100\n",
    "# batch_size = 100\n",
    "# linear_evaluation_results = linear_evaluation(\n",
    "#     model, \n",
    "#     datasets, \n",
    "#     num_steps=num_steps, \n",
    "#     batch_size=batch_size, \n",
    "#     visualize=True\n",
    "#     )\n",
    "# pprint.pprint(linear_evaluation_results)\n",
    "# file_name = f'linear_evaluation_{num_steps*batch_size}samples'\n",
    "# json.dump(linear_evaluation_results, open(os.path.join(model_dir, f'{file_name}.json'), 'w'), indent=4)\n",
    "# pd.json_normalize(linear_evaluation_results, sep='-').to_csv(os.path.join(model_dir, f'{file_name}.csv'), index=False)\n",
    "# print(f'>>> Saved KNN Evluation Results to {model_dir}/{file_name}.json/csv')\n",
    "\n",
    "\n",
    "num_steps = 100\n",
    "batch_size = 10\n",
    "reconstruction_evaluation_results = reconstruction_evaluation(\n",
    "    model, \n",
    "    datasets, \n",
    "    num_steps=num_steps, \n",
    "    batch_size=batch_size, \n",
    "    visualize=False\n",
    "    )\n",
    "file_name = f'reconstruction_evaluation_{num_steps*batch_size}samples'\n",
    "json.dump(reconstruction_evaluation_results, open(os.path.join(model_dir, f'{file_name}.json'), 'w'), indent=4)\n",
    "pd.json_normalize(reconstruction_evaluation_results, sep='-').to_csv(os.path.join(model_dir, f'{file_name}.csv'), index=False)\n",
    "print(f'>>> Saved Reconstruction Evaluation Results to {model_dir}/{file_name}.json/csv')"
   ]
  }
 ],
 "metadata": {
  "kernelspec": {
   "display_name": "seq2seq-ae",
   "language": "python",
   "name": "python3"
  },
  "language_info": {
   "codemirror_mode": {
    "name": "ipython",
    "version": 3
   },
   "file_extension": ".py",
   "mimetype": "text/x-python",
   "name": "python",
   "nbconvert_exporter": "python",
   "pygments_lexer": "ipython3",
   "version": "3.11.5"
  }
 },
 "nbformat": 4,
 "nbformat_minor": 2
}
