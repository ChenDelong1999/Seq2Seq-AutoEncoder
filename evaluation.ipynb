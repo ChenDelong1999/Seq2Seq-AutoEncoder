{
 "cells": [
  {
   "cell_type": "code",
   "execution_count": null,
   "metadata": {},
   "outputs": [],
   "source": [
    "import argparse\n",
    "import os\n",
    "import json\n",
    "import tqdm\n",
    "import math\n",
    "import numpy as np\n",
    "import random\n",
    "import time\n",
    "import torch\n",
    "import torchvision.transforms as transforms\n",
    "from matplotlib import pyplot as plt\n",
    "from PIL import Image\n",
    "import pprint\n",
    "import pandas as pd\n",
    "\n",
    "np.random.seed(42)\n",
    "random.seed(42)\n",
    "\n",
    "from model import Seq2SeqAutoEncoderModel\n",
    "from evaluation import decode_image_from_seq, visualize_segments, tsne_visualize, get_knn_similarity, get_datasets, knn_evaluation, reconstruction_evaluation"
   ]
  },
  {
   "cell_type": "code",
   "execution_count": null,
   "metadata": {},
   "outputs": [],
   "source": [
    "\n",
    "os.environ['CUDA_VISIBLE_DEVICES'] = '4'\n",
    "# model_dir = '/home/dchenbs/workspace/Seq2Seq-AutoEncoder/runs/Nov22_19-50-39_host19-SA1B-[330MB-16queries-2304]-[lr1e-05-bs4x4step-8gpu]/checkpoints/checkpoint_ep0_step600k'\n",
    "model_dir = '/home/dchenbs/workspace/Seq2Seq-AutoEncoder/runs/Nov14_17-31-06_host19-SA1B-[327MB-16queries-1024]-[lr1e-05-bs16x1step-8gpu]/checkpoints/checkpoint_ep0_step1000k'\n",
    "\n",
    "print(f'Loading model from {model_dir}')\n",
    "\n",
    "model = Seq2SeqAutoEncoderModel.from_pretrained(model_dir).cuda().eval()\n",
    "datasets = get_datasets(model)\n",
    "datasets = datasets[:1]\n",
    "\n",
    "num_steps = 100\n",
    "batch_size = 100\n",
    "k=5\n",
    "knn_evaluation_results = knn_evaluation(\n",
    "    model, \n",
    "    datasets, \n",
    "    num_steps=num_steps, \n",
    "    batch_size=batch_size, \n",
    "    k=k, \n",
    "    visualize=True\n",
    "    )\n",
    "file_name = f'knn_evaluation_k={k}_{num_steps*batch_size}samples'\n",
    "json.dump(knn_evaluation_results, open(os.path.join(model_dir, f'{file_name}.json'), 'w'), indent=4)\n",
    "pd.json_normalize(knn_evaluation_results, sep='-').to_csv(os.path.join(model_dir, f'{file_name}.csv'), index=False)\n",
    "print(f'>>> Saved KNN Evluation Results to {model_dir}/{file_name}.json/csv')\n",
    "\n",
    "num_steps = 10\n",
    "batch_size = 10\n",
    "reconstruction_evaluation_results = reconstruction_evaluation(\n",
    "    model, \n",
    "    datasets, \n",
    "    num_steps=num_steps, \n",
    "    batch_size=batch_size, \n",
    "    visualize=True\n",
    "    )\n",
    "file_name = f'reconstruction_evaluation_{num_steps*batch_size}samples'\n",
    "json.dump(reconstruction_evaluation_results, open(os.path.join(model_dir, f'{file_name}.json'), 'w'), indent=4)\n",
    "pd.json_normalize(reconstruction_evaluation_results, sep='-').to_csv(os.path.join(model_dir, f'{file_name}.csv'), index=False)\n",
    "print(f'>>> Saved Reconstruction Evaluation Results to {model_dir}/{file_name}.json/csv')"
   ]
  }
 ],
 "metadata": {
  "kernelspec": {
   "display_name": "seq2seq-ae",
   "language": "python",
   "name": "python3"
  },
  "language_info": {
   "codemirror_mode": {
    "name": "ipython",
    "version": 3
   },
   "file_extension": ".py",
   "mimetype": "text/x-python",
   "name": "python",
   "nbconvert_exporter": "python",
   "pygments_lexer": "ipython3",
   "version": "3.11.5"
  }
 },
 "nbformat": 4,
 "nbformat_minor": 2
}
