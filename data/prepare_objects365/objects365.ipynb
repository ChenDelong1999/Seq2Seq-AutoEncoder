{
 "cells": [
  {
   "cell_type": "code",
   "execution_count": 9,
   "metadata": {},
   "outputs": [
    {
     "name": "stdout",
     "output_type": "stream",
     "text": [
      "dict_keys(['path', 'objects'])\n",
      "{'objects': [{'box': [102, 14, 239, 486],\n",
      "              'label': 'Tie',\n",
      "              'mask': 'Zgb14]?5K5K5K5K5K4M4K5K5L4K5K5L3L5J6K4L4L5J5L4L4K4L4M2M4M2L5L3N2aNWLQGm3k8YLnFk3Q9ZLhFi3W9ZLeFi3X9[LdFg3[9[L`Fi3^9[L_Fg3_9[L^Fg3a9W1M2N2O1N1000000O1O100000O1O1O1O1O100N2O001O2M2O1N2O1O1N2O[MiJQKU5o4WKgJg4Z5aK^J^4c5hKWJW4k5mKQJQ4P6TLmIh3V6]LeIb3[6bLbI]3^6iL]IT3e6SMUIj2m6^MlH`2U7hMdHV2]7RN]Hk1d7o22O0O2N2WJYHf3i7^KPHKm0S4S7QLkIk3U6VLoIc3T6^LmI]3W6cLkIX3W6hLlIS3V6mLmIk2W6UMlIg2V6YMmIb2T6]MQJ]2Q6bMTJ1`Mn0a8POTJObMc0_8ZOWJ1dMIe86lIN]70jHNU72nHLR72QIMo6OVIOk6OWI1j6LVI6j6IVI9j6FoHa0S7]OgHi0Z7WOcHk0_7TO^Hn0c7SOVHQ1m7oNmGT1V8lNdGW1_8hN]GY1g8gNSG[1P9gNhFZ1^9fN]FZ1h9fNRF[1S:eNfEW1e:iNVEo0W;QOdDn0c;POUDT1P<lNjCT1\\\\<lN^CW1f<hNVCY1m<iNmBX1W=gNfBX1^=iN_BV1d=kNZBS1j=mNSBR1P>64L3M4L5K?A7G_l\\\\1'}],\n",
      " 'path': 'train/patch14/objects365_v1_00683734.jpg'}\n"
     ]
    }
   ],
   "source": [
    "import json, os, pprint\n",
    "\n",
    "\n",
    "instance_mask_file = '/home/dchenbs/workspace/datasets/Objects365/Objects365-SAM-Instances.jsonl'\n",
    "with open(instance_mask_file, 'r') as f:\n",
    "    sample = json.loads(f.readline())\n",
    "    print(sample.keys())\n",
    "    pprint.pprint(sample)"
   ]
  },
  {
   "cell_type": "code",
   "execution_count": 8,
   "metadata": {},
   "outputs": [
    {
     "name": "stdout",
     "output_type": "stream",
     "text": [
      "images 80000\n",
      "{'file_name': 'images/v2/patch16/objects365_v2_00900010.jpg',\n",
      " 'height': 727,\n",
      " 'id': 900010,\n",
      " 'license': 5,\n",
      " 'url': '',\n",
      " 'width': 1024}\n",
      "annotations 1240587\n",
      "{'area': 177.71773017658128,\n",
      " 'bbox': [54.887451136, 185.7199096345, 21.85046394879999, 8.133361863299996],\n",
      " 'category_id': 46,\n",
      " 'id': 288,\n",
      " 'image_id': 900010,\n",
      " 'iscrowd': 0,\n",
      " 'isfake': 0,\n",
      " 'isreflected': 0}\n",
      "categories 365\n",
      "{'id': 1, 'name': 'Person'}\n",
      "licenses 8\n",
      "{'id': 1,\n",
      " 'name': 'Attribution-NonCommercial-ShareAlike License',\n",
      " 'url': 'http://creativecommons.org/licenses/by-nc-sa/2.0/'}\n"
     ]
    }
   ],
   "source": [
    "\n",
    "objects365_root = '/home/dchenbs/workspace/datasets/Objects365/raw/Objects365/data'\n",
    "split = 'val'\n",
    "\n",
    "# samples = json.load(open(os.path.join(objects365_root, split, 'sample_2020.json'), 'r'))\n",
    "samples = json.load(open(os.path.join(objects365_root, split, 'zhiyuan_objv2_val.json'), 'r'))\n",
    "for key in samples.keys():\n",
    "    print(key, len(samples[key]))\n",
    "    pprint.pprint(samples[key][0])"
   ]
  }
 ],
 "metadata": {
  "kernelspec": {
   "display_name": "seq2seq-ae",
   "language": "python",
   "name": "python3"
  },
  "language_info": {
   "codemirror_mode": {
    "name": "ipython",
    "version": 3
   },
   "file_extension": ".py",
   "mimetype": "text/x-python",
   "name": "python",
   "nbconvert_exporter": "python",
   "pygments_lexer": "ipython3",
   "version": "3.11.5"
  }
 },
 "nbformat": 4,
 "nbformat_minor": 2
}
