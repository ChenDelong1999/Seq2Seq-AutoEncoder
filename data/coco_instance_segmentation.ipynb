{
 "cells": [
  {
   "cell_type": "code",
   "execution_count": null,
   "metadata": {},
   "outputs": [],
   "source": [
    "from pycocotools.coco import COCO\n",
    "\n",
    "dataDir = '/home/delong/workspace/dataset/coco2017'\n",
    "dataType = 'val2017'\n",
    "annFile = '{}/annotations/instances_{}.json'.format(dataDir, dataType)\n",
    "coco = COCO(annFile)"
   ]
  },
  {
   "cell_type": "code",
   "execution_count": null,
   "metadata": {},
   "outputs": [],
   "source": [
    "import torch\n",
    "from torch.utils.data import Dataset\n",
    "from PIL import Image\n",
    "import numpy as np\n",
    "import matplotlib.pyplot as plt\n",
    "from pycocotools.coco import COCO\n",
    "\n",
    "class COCODataset(Dataset):\n",
    "    def __init__(self, dataDir, dataType):\n",
    "        self.dataDir = dataDir\n",
    "        self.dataType = dataType\n",
    "        self.coco = COCO('{}/annotations/instances_{}.json'.format(dataDir, dataType))\n",
    "        self.ids = list(sorted(self.coco.imgs.keys()))\n",
    "\n",
    "    def __getitem__(self, index):\n",
    "        coco = self.coco\n",
    "        img_id = self.ids[index]\n",
    "        ann_ids = coco.getAnnIds(imgIds=img_id)\n",
    "        coco_annotation = coco.loadAnns(ann_ids)\n",
    "        path = coco.loadImgs(img_id)[0]['file_name']\n",
    "\n",
    "        masks = []\n",
    "        labels = []\n",
    "        for annotation in coco_annotation:\n",
    "            mask = coco.annToMask(annotation)\n",
    "            masks.append(mask)\n",
    "            labels.append(annotation['category_id'])\n",
    "\n",
    "        masks = np.stack(masks, axis=0)\n",
    "        labels = np.array(labels, dtype=np.int64)\n",
    "\n",
    "        return path, masks, labels\n",
    "\n",
    "    def __len__(self):\n",
    "        return len(self.ids)\n",
    "\n",
    "# Create the dataset\n",
    "dataDir = '/home/delong/workspace/dataset/coco2017'\n",
    "dataType = 'val2017'\n",
    "dataset = COCODataset(dataDir, dataType)\n",
    "\n",
    "id_to_name = {category['id']: category['name'] for category in dataset.coco.loadCats(coco.getCatIds())}\n",
    "print(id_to_name)\n",
    "\n",
    "# Visualize the first 5 samples\n",
    "for i in range(5):\n",
    "    path, masks, labels = dataset[np.random.randint(0, len(dataset))]\n",
    "    img = Image.open(f\"{dataDir}/images/{dataType}/{path}\")\n",
    "    plt.figure(figsize=(10, 5))\n",
    "    plt.subplot(1, 2, 1)\n",
    "    plt.imshow(img)\n",
    "    plt.subplot(1, 2, 2)\n",
    "    plt.imshow(np.sum(masks, axis=0))\n",
    "    plt.show()\n",
    "\n",
    "    print([id_to_name[label] for label in labels])  \n",
    "    "
   ]
  }
 ],
 "metadata": {
  "kernelspec": {
   "display_name": "openclip",
   "language": "python",
   "name": "python3"
  },
  "language_info": {
   "codemirror_mode": {
    "name": "ipython",
    "version": 3
   },
   "file_extension": ".py",
   "mimetype": "text/x-python",
   "name": "python",
   "nbconvert_exporter": "python",
   "pygments_lexer": "ipython3",
   "version": "3.11.4"
  }
 },
 "nbformat": 4,
 "nbformat_minor": 2
}
