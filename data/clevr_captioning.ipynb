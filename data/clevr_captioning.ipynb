{
 "cells": [
  {
   "cell_type": "code",
   "execution_count": 4,
   "metadata": {},
   "outputs": [
    {
     "name": "stdout",
     "output_type": "stream",
     "text": [
      "{'split': 'val', 'license': 'Creative Commons Attribution (CC BY 4.0)', 'version': '1.0', 'date': '2/14/2017'}\n",
      "15000\n",
      "dict_keys(['image_index', 'objects', 'relationships', 'image_filename', 'split', 'directions'])\n"
     ]
    }
   ],
   "source": []
  },
  {
   "cell_type": "markdown",
   "metadata": {},
   "source": [
    "```python\n",
    "<scene> {\n",
    "  \"spit\": <string: \"train\", \"val\", or \"test\">,\n",
    "  \"image_index\": <integer>,\n",
    "  \"image_filename\": <string, e.g. \"CLEVR_train_000000.png\">,\n",
    "  \"directions\": {\n",
    "    \"left\": [list of 3 numbers x, y, z],\n",
    "    \"right\": [list of 3 numbers x, y, z],\n",
    "    \"front\": [list of 3 numbers x, y, z],\n",
    "    \"behind\": [list of 3 numbers x, y, z],\n",
    "    \"below\": [list of 3 numbers x, y, z],\n",
    "    \"above\": [list of 3 numbers x, y, z]\n",
    "  },\n",
    "  \"objects\": [<object>],\n",
    "  \"relations\": {\n",
    "    \"left\": <adjacency list>,\n",
    "    \"right\": <adjacency list>,\n",
    "    \"front\": <adjacency list>,\n",
    "    \"behind\": <adjacency list>\n",
    "  }\n",
    "}\n",
    "\n",
    "Relationships are stored as adjacency lists, which are lists of lists of\n",
    "integers. If s is a <scene> object, then s['relations']['left'][i] is a list of\n",
    "indices for objects which are left of s['objects'][i].\n",
    "\n",
    "In other words, s['objects'][j] is left of s['objects'][i] if and only if\n",
    "j is in s['relations']['left'][i].\n",
    "\n",
    "<object> {\n",
    "  \"3d_coords\": [list of 3 numbers x, y, z],\n",
    "  \"pixel_coords\": [list of 3 numbers x, y, z],\n",
    "  \"rotation\": <number, in degrees>,\n",
    "  \"size': <string: \"small\" or \"large\">,\n",
    "  \"color\": <string: \"gray\", \"blue\", \"brown\", \"yellow\", \"red\", \"green\", \"purple\", or \"cyan\">,\n",
    "  \"material\": <string: \"rubber\" or \"metal\">,\n",
    "  \"shape\": <string: \"cube\", \"sphere\", or \"cylinder\">\n",
    "}\n",
    "```"
   ]
  },
  {
   "cell_type": "code",
   "execution_count": 27,
   "metadata": {},
   "outputs": [
    {
     "name": "stderr",
     "output_type": "stream",
     "text": [
      "100%|██████████| 70000/70000 [00:00<00:00, 189058.90it/s]\n",
      "100%|██████████| 15000/15000 [00:00<00:00, 196213.73it/s]\n"
     ]
    }
   ],
   "source": [
    "from PIL import Image\n",
    "from IPython.display import display\n",
    "import json, os, tqdm\n",
    "\n",
    "def process_one_scene(scene):\n",
    "    img_path = os.path.join('images', scene['split'], scene['image_filename'])\n",
    "    # image = Image.open(img_path)\n",
    "    # display(image)\n",
    "\n",
    "    objects = scene['objects']\n",
    "    # sort objects by object['pixel_coords'][0]\n",
    "    objects = sorted(objects, key=lambda x: x['pixel_coords'][0])\n",
    "    object_captions = []\n",
    "    for object in objects:\n",
    "        caption = f\"a {object['size']} {object['color']} {object['material']} {object['shape']}\"\n",
    "        object_captions.append(caption)\n",
    "\n",
    "    image_caption = f'Total {len(scene[\"objects\"])} objects: '\n",
    "    image_caption += ', '.join(object_captions) + '.'\n",
    "\n",
    "    return img_path, image_caption\n",
    "\n",
    "os.makedirs('captions', exist_ok=True)\n",
    "for split in ['train', 'val']:\n",
    "    scene_graphs = json.load(open(f'scenes/CLEVR_{split}_scenes.json', 'r'))\n",
    "    samples = []\n",
    "    for scene_graph in tqdm.tqdm(scene_graphs['scenes']):\n",
    "        img_path, caption = process_one_scene(scene_graph)\n",
    "        samples.append({\n",
    "            'img_path': img_path,\n",
    "            'caption': caption\n",
    "        })\n",
    "\n",
    "    json.dump(samples, open(f'captions/{split}.json', 'w'), indent=4)\n"
   ]
  }
 ],
 "metadata": {
  "kernelspec": {
   "display_name": "seq2seq-ae",
   "language": "python",
   "name": "python3"
  },
  "language_info": {
   "codemirror_mode": {
    "name": "ipython",
    "version": 3
   },
   "file_extension": ".py",
   "mimetype": "text/x-python",
   "name": "python",
   "nbconvert_exporter": "python",
   "pygments_lexer": "ipython3",
   "version": "3.11.5"
  }
 },
 "nbformat": 4,
 "nbformat_minor": 2
}
