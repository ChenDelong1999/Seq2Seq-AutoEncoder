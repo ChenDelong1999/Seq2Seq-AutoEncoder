{
 "cells": [
  {
   "cell_type": "code",
   "execution_count": null,
   "metadata": {},
   "outputs": [],
   "source": [
    "# from openxlab.dataset import download\n",
    "\n",
    "# id_start = 800\n",
    "# num_files = 200\n",
    "# target_path='/cpfs/shared/research-llm/instruc_data_en/multimodal_instruct_tuning/sa1b/SA-1B/raw'\n",
    "# for i in range(id_start, id_start + num_files):\n",
    "#     source_path =  f'/raw/sa_{i:06d}.tar'\n",
    "#     print(f'>>> Downloading {source_path} ({id_start} to {id_start + num_files-1})')\n",
    "#     download(dataset_repo='OpenDataLab/SA-1B', source_path=source_path, target_path=target_path)\n",
    "\n",
    "\n",
    "# \"\"\"\n",
    "# openxlab dataset download -r OpenDataLab/SA-1B \\\n",
    "#                           -s /raw/sa_000999.tar \\\n",
    "#                           -t /cpfs/shared/research-llm/instruc_data_en/multimodal_instruct_tuning/sa1b/SA-1B/raw\n",
    "\n",
    "# \"\"\"\n"
   ]
  },
  {
   "cell_type": "code",
   "execution_count": null,
   "metadata": {},
   "outputs": [],
   "source": [
    "import os\n",
    "\n",
    "sa1b_root = '/cpfs/shared/research-llm/instruc_data_en/multimodal_instruct_tuning/sa1b/SA-1B/EXTRACTED'\n",
    "img_ids = []\n",
    "sub_folder_image_number = {}\n",
    "\n",
    "for subfolder in os.listdir(sa1b_root):\n",
    "    subfolder_path = os.path.join(sa1b_root, subfolder)\n",
    "    if os.path.isdir(subfolder_path):\n",
    "        img_ids_this_subfolder = []\n",
    "        if os.path.isdir(subfolder_path):\n",
    "            for img_file in os.listdir(subfolder_path):\n",
    "                if img_file.endswith('.jpg'):\n",
    "                    img_ids_this_subfolder.append(os.path.join(subfolder_path, img_file[:-4]))\n",
    "        sub_folder_image_number[subfolder] = len(img_ids_this_subfolder)\n",
    "        img_ids.extend(img_ids_this_subfolder)\n",
    "        print(f\"{subfolder} has {sub_folder_image_number[subfolder]} images. Now {len(img_ids)/1000000:.2f}M images found.\")\n",
    "print(f\"SA1B dataset loaded. {len(img_ids)} images found.\")"
   ]
  },
  {
   "cell_type": "code",
   "execution_count": null,
   "metadata": {},
   "outputs": [],
   "source": [
    "import os\n",
    "import subprocess\n",
    "from multiprocessing import Pool\n",
    "\n",
    "def extract(i):\n",
    "    file = f\"sa_{i:06}.tar\"\n",
    "    dir = os.path.join(parent, f\"sa_{i:06}\")\n",
    "    if os.path.exists(file):\n",
    "        print(f\"Extracting {file} to {dir}\")\n",
    "        os.makedirs(dir, exist_ok=True)\n",
    "        # subprocess.call([\"tar\", \"-xf\", file, \"-C\", dir])\n",
    "        subprocess.call([\"tar\", \"--skip-old-files\", \"-xf\", file, \"-C\", dir])\n",
    "        print(f\"Extracted {file}\")\n",
    "    else:\n",
    "        print(f\"File {file} does not exist\")\n",
    "\n",
    "if __name__ == \"__main__\":\n",
    "    os.chdir(\"/cpfs/shared/research-llm/instruc_data_en/multimodal_instruct_tuning/sa1b/SA-1B/raw\")\n",
    "    parent = \"/cpfs/shared/research-llm/instruc_data_en/multimodal_instruct_tuning/sa1b/SA-1B/EXTRACTED\"\n",
    "    with Pool() as p:\n",
    "        p.map(extract, range(200, 1000))"
   ]
  }
 ],
 "metadata": {
  "language_info": {
   "name": "python"
  }
 },
 "nbformat": 4,
 "nbformat_minor": 2
}
